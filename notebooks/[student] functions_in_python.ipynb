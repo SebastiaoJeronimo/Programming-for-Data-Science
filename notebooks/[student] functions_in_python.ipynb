{
  "cells": [
    {
      "cell_type": "markdown",
      "metadata": {},
      "source": [
        "# Lab 3: Functions in Python"
      ]
    },
    {
      "cell_type": "markdown",
      "metadata": {},
      "source": [
        "## 1. Function Definition and Imports 📦"
      ]
    },
    {
      "cell_type": "markdown",
      "metadata": {},
      "source": [
        "### Step 1.1: What is a Function?\n",
        "A **function** is a reusable block of code that performs a specific task. They make code more organized and easier to manage. Defining a function gives it a name and specifies its **parameters**.\n",
        "\n",
        "### Docstrings\n",
        "\n",
        "**Docstrings** are string literals that appear as the first statement in a function, module, class, or method definition. They are a crucial part of writing good code documentation. They explain what the function does, its parameters, and what it returns. "
      ]
    },
    {
      "cell_type": "code",
      "execution_count": null,
      "metadata": {},
      "outputs": [],
      "source": [
        "# The basic layout of a function\n",
        "def add(a, b): # -> This upper part uses \"def\" to state that this is a function; a,b are its arguments\n",
        "    \"\"\" [This part is called the docstrings]\n",
        "    add: Adds two numbers\n",
        "\n",
        "    Args:\n",
        "    ------\n",
        "    a: First number\n",
        "    b: Second number\n",
        "\n",
        "    Returns:\n",
        "    ------\n",
        "    The sum of a and b\n",
        "    \"\"\"\n",
        "    # Add the main logic for the function here\n"
      ]
    },
    {
      "cell_type": "markdown",
      "metadata": {},
      "source": [
        "### Step 1.2: Variable Scope: Local vs. Global 🌐\n",
        "\n",
        "**Scope** refers to the region of your code where a variable is accessible. In Python, a variable's scope is determined by where you define it. The two main types are **global** and **local** scope.\n",
        "\n",
        "* A variable with **global scope** is defined outside of any function and can be accessed from anywhere in your program.\n",
        "* A variable with **local scope** is defined inside a function and can only be accessed from within that function.\n",
        "\n",
        "### Example\n",
        "Here's how this looks in Python. The code below will cause a `NameError` because we are trying to access a local variable from the global scope. Note that global variables should be sparingly used; it is not considered a good practice to use them too often."
      ]
    },
    {
      "cell_type": "code",
      "execution_count": null,
      "metadata": {},
      "outputs": [],
      "source": [
        "# This variable is in the global scope\n",
        "global_var = \"I am accessible everywhere\"\n",
        "\n",
        "def my_function():\n",
        "    # This variable is in the local scope of this function\n",
        "    local_var = \"I am only accessible here\"\n",
        "    print(f\"Inside the function, I can access the global variable: {global_var}\")\n",
        "    print(f\"Inside the function, I can access the local variable: {local_var}\")\n",
        "\n",
        "my_function()\n",
        "\n",
        "# Trying to access the local variable outside the function will result in an error\n",
        "print(f\"Outside the function, I can access the global variable: {global_var}\")\n",
        "print(f\"Outside the function, I cannot access the local variable: {local_var}\")\n"
      ]
    },
    {
      "cell_type": "markdown",
      "metadata": {},
      "source": [
        "We can use functions to compartmentalize our code. Commonly, we can define functions to perform specific operations in a script, i.e. a ```.py``` file."
      ]
    },
    {
      "cell_type": "markdown",
      "metadata": {},
      "source": [
        "### Step 1.4: Create a `math_helpers.py` File\n",
        "We'll start by creating a module with a simple function. Note that we use notebook magic to directly write out a Python code to a script (```%%writefile```)."
      ]
    },
    {
      "cell_type": "code",
      "execution_count": null,
      "metadata": {},
      "outputs": [],
      "source": [
        "%%writefile math_helpers.py\n",
        "def add_two(x):\n",
        "    \"\"\"Adds 2 to a number and returns the result.\"\"\"\n",
        "    # Write the code to add 2 to x and return the result\n"
      ]
    },
    {
      "cell_type": "markdown",
      "metadata": {},
      "source": [
        "### Step 1.5: Import and Use in `main.py`\n",
        "Now, let's import and use this function in a separate file, making sure to use the `if __name__ == \"__main__\"` block for execution. This is a common convention that ensures certain code only runs when the script is executed directly, not when it's imported. This is great for keeping your main program logic separate from reusable functions."
      ]
    },
    {
      "cell_type": "code",
      "execution_count": null,
      "metadata": {},
      "outputs": [],
      "source": [
        "%%writefile main.py\n",
        "from math_helpers import add_two\n",
        "\n",
        "if __name__ == \"__main__\":\n",
        "    print(\"Executing the main script.\")\n",
        "    # Call the add_two function here with a number and store the result\n",
        "    # Then, print the result"
      ]
    },
    {
      "cell_type": "markdown",
      "metadata": {},
      "source": [
        "-   **How to Run:** Open your terminal, navigate to the directory, and type `python main.py`. The script will print `Executing the main script.` and then `The result is: 7`."
      ]
    },
    {
      "cell_type": "markdown",
      "metadata": {},
      "source": [
        "---\n",
        "\n",
        "## 2. Functions with and without Return Values ↩️\n",
        "\n",
        "Functions can either perform an action and not give anything back, or they can calculate a value and **return** it to the caller."
      ]
    },
    {
      "cell_type": "markdown",
      "metadata": {},
      "source": [
        "### Step 2.1: Function Without a Return Value\n",
        "We'll write a function that performs an action, like printing, but doesn't return a value."
      ]
    },
    {
      "cell_type": "code",
      "execution_count": null,
      "metadata": {},
      "outputs": [],
      "source": [
        "def greet(name):\n",
        "    \"\"\"Greets a person by name.\"\"\"\n",
        "    # Write code to print the greeting\n",
        "\n",
        "# Call the function and try to store its return value\n",
        "result = greet(\"Alice\")\n",
        "print(f\"The return value is: {result}\")"
      ]
    },
    {
      "cell_type": "markdown",
      "metadata": {},
      "source": [
        "-   **Explanation:** This function performs a task but does not have a `return` statement. When a function doesn't explicitly return a value, Python automatically returns `None`."
      ]
    },
    {
      "cell_type": "markdown",
      "metadata": {},
      "source": [
        "### Step 2.2: Function With a Return Value\n",
        "Now, let's write a function that calculates a value and returns it."
      ]
    },
    {
      "cell_type": "code",
      "execution_count": null,
      "metadata": {},
      "outputs": [],
      "source": [
        "def calculate_area(width, height):\n",
        "    \"\"\"Calculates the area of a rectangle and returns it.\"\"\"\n",
        "    # Write the code to calculate the area and return it\n",
        "\n",
        "# Call the function and store the return value in a variable\n",
        "room_area = calculate_area(10, 5)\n",
        "print(f\"The room area is {room_area} square units.\")"
      ]
    },
    {
      "cell_type": "markdown",
      "metadata": {},
      "source": [
        "-   **Explanation:** The `return` statement sends the value of `area` back. This allows you to use the result in other parts of your code."
      ]
    },
    {
      "cell_type": "markdown",
      "metadata": {},
      "source": [
        "---\n",
        "\n",
        "## 3. Arguments: Positional and Keyword 🔑\n",
        "\n",
        "Arguments are values passed to a function when it is called."
      ]
    },
    {
      "cell_type": "markdown",
      "metadata": {},
      "source": [
        "### Step 3.1: Positional Arguments\n",
        "Let's first understand how arguments are matched by their order."
      ]
    },
    {
      "cell_type": "code",
      "execution_count": null,
      "metadata": {},
      "outputs": [],
      "source": [
        "def describe_item(category, name):\n",
        "    \"\"\"Describes an item.\"\"\"\n",
        "    # Write code to print the description\n",
        "\n",
        "# Call the function using positional arguments\n",
        "describe_item(\"tool\", \"hammer\")"
      ]
    },
    {
      "cell_type": "markdown",
      "metadata": {},
      "source": [
        "-   **Explanation:** The arguments are assigned based on their **position**."
      ]
    },
    {
      "cell_type": "markdown",
      "metadata": {},
      "source": [
        "### Step 3.2: Keyword Arguments\n",
        "Now, let's look at how arguments are matched by name."
      ]
    },
    {
      "cell_type": "code",
      "execution_count": null,
      "metadata": {},
      "outputs": [],
      "source": [
        "# Call the function using keyword arguments\n",
        "describe_item(name=\"saw\", category=\"tool\")"
      ]
    },
    {
      "cell_type": "markdown",
      "metadata": {},
      "source": [
        "-   **Explanation:** By specifying the parameter name (`name=` and `category=`), the order becomes irrelevant, which makes the code more readable."
      ]
    },
    {
      "cell_type": "markdown",
      "metadata": {},
      "source": [
        "---\n",
        "\n",
        "## 4. Default Arguments ⚙️\n",
        "\n",
        "You can set a default value for a parameter. If a user doesn't provide an argument, the default is used."
      ]
    },
    {
      "cell_type": "markdown",
      "metadata": {},
      "source": [
        "### Step 4.1: Define a Function with a Default Argument\n",
        "We can create a function where one argument is optional by giving it a default value."
      ]
    },
    {
      "cell_type": "code",
      "execution_count": null,
      "metadata": {},
      "outputs": [],
      "source": [
        "def show_info(item, price, currency=\"USD\"):\n",
        "    \"\"\"Displays item information with an optional currency.\"\"\"\n",
        "    # Write the print statement here\n",
        "\n",
        "# Call the function with and without the optional argument\n",
        "show_info(\"shirt\", 25)\n",
        "show_info(\"pants\", 50, currency=\"EUR\")"
      ]
    },
    {
      "cell_type": "markdown",
      "metadata": {},
      "source": [
        "-   **Explanation:** If no value is provided for `currency`, it defaults to `'USD'`. If a value is provided, it overrides the default."
      ]
    },
    {
      "cell_type": "markdown",
      "metadata": {},
      "source": [
        "---\n",
        "\n",
        "## 5. `**kwargs` and Dictionaries 📚\n",
        "\n",
        "The `**kwargs` syntax allows a function to accept any number of keyword arguments, which are collected into a dictionary."
      ]
    },
    {
      "cell_type": "markdown",
      "metadata": {},
      "source": [
        "### Step 5.1: Function with `**kwargs`\n",
        "Let's create a function that takes flexible information using `**kwargs`."
      ]
    },
    {
      "cell_type": "code",
      "execution_count": null,
      "metadata": {},
      "outputs": [],
      "source": [
        "def create_summary(**details):\n",
        "    \"\"\"Builds a summary dictionary from keyword arguments.\"\"\"\n",
        "    # Return the details dictionary\n",
        "    return details\n",
        "\n",
        "# Call the function with different keyword arguments"
      ]
    },
    {
      "cell_type": "markdown",
      "metadata": {},
      "source": [
        "-   **Explanation:** The `**details` parameter gathers all `key=value` pairs into a dictionary called `details`."
      ]
    },
    {
      "cell_type": "markdown",
      "metadata": {},
      "source": [
        "### Step 5.2: Using a Dictionary\n",
        "We can also pass a dictionary to a function using the `**` operator."
      ]
    },
    {
      "cell_type": "code",
      "execution_count": null,
      "metadata": {},
      "outputs": [],
      "source": [
        "# Define a dictionary of product data\n",
        "\n",
        "# Call the function by unpacking the dictionary"
      ]
    },
    {
      "cell_type": "markdown",
      "metadata": {},
      "source": [
        "-   **Explanation:** The `**` operator **unpacks** the `product_data` dictionary, passing its contents as individual keyword arguments."
      ]
    },
    {
      "cell_type": "markdown",
      "metadata": {},
      "source": [
        "---\n",
        "\n",
        "## 6. Lambda Functions: Quick Functions 👻\n",
        "\n",
        "A **lambda function** is a small, anonymous function defined in a single line. It's often used for simple operations."
      ]
    },
    {
      "cell_type": "markdown",
      "metadata": {},
      "source": [
        "### Step 6.1: Create a Lambda\n",
        "Let's make a one-line function to multiply two numbers."
      ]
    },
    {
      "cell_type": "code",
      "execution_count": null,
      "metadata": {},
      "outputs": [],
      "source": [
        "# [CODE HERE]"
      ]
    },
    {
      "cell_type": "markdown",
      "metadata": {},
      "source": [
        "-   **Explanation:** `lambda x, y:` sets the parameters. `: x * y` is the expression that's returned."
      ]
    },
    {
      "cell_type": "markdown",
      "metadata": {},
      "source": [
        "---\n",
        "\n",
        "## 7. Composition and List Comprehensions 📝\n",
        "\n",
        "Functions can be combined or used within data structures for powerful, concise code."
      ]
    },
    {
      "cell_type": "markdown",
      "metadata": {},
      "source": [
        "### Step 7.1: Function Composition\n",
        "We'll learn how to call one function with the result of another."
      ]
    },
    {
      "cell_type": "code",
      "execution_count": null,
      "metadata": {},
      "outputs": [],
      "source": [
        "# [CODE HERE] "
      ]
    },
    {
      "cell_type": "markdown",
      "metadata": {},
      "source": [
        "-   **Explanation:** `add_five(10)` runs first, returning `15`. This result is then passed to `multiply_by_three()`."
      ]
    },
    {
      "cell_type": "markdown",
      "metadata": {},
      "source": [
        "### Step 7.2: Functions in List Comprehensions\n",
        "Finally, we'll apply a function to every item in a list using a concise list comprehension."
      ]
    },
    {
      "cell_type": "code",
      "execution_count": null,
      "metadata": {},
      "outputs": [],
      "source": [
        "from math_helpers import add_two # Re-using our imported function\n",
        "\n",
        "numbers = [1, 2, 3, 4]\n",
        "\n",
        "# Apply the add_two function to each number"
      ]
    },
    {
      "cell_type": "markdown",
      "metadata": {},
      "source": [
        "-   **Explanation:** This one-line list comprehension iterates through `numbers`, calls `add_two()` for each one, and creates a new list with the results. It's a very **Pythonic** way to transform a list."
      ]
    }
  ],
  "metadata": {
    "kernelspec": {
      "display_name": "schola",
      "language": "python",
      "name": "python3"
    },
    "language_info": {
      "codemirror_mode": {
        "name": "ipython",
        "version": 3
      },
      "file_extension": ".py",
      "mimetype": "text/x-python",
      "name": "python",
      "nbconvert_exporter": "python",
      "pygments_lexer": "ipython3",
      "version": "3.11.1"
    }
  },
  "nbformat": 4,
  "nbformat_minor": 4
}
